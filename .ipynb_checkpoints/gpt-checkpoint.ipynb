{
 "cells": [
  {
   "cell_type": "code",
   "execution_count": 1,
   "id": "c78875c0",
   "metadata": {},
   "outputs": [],
   "source": [
    "import torch\n",
    "import torch.nn as nn\n",
    "import torch.nn.functional as F"
   ]
  },
  {
   "cell_type": "code",
   "execution_count": 11,
   "id": "df2f27aa",
   "metadata": {},
   "outputs": [],
   "source": [
    "# hyperparameters\n",
    "block_size = 8\n",
    "batch_size = 32\n",
    "max_iters = 3000\n",
    "eval_interval = 300\n",
    "learning_rate = 1e-2\n",
    "eval_iters = 200\n",
    "device = \"cuda\" if torch.cuda.is_available() else \"cpu\"\n",
    "embed_size = 32\n",
    "num_heads = 4\n",
    "# ------------------\n",
    "data_file = \"./input.txt\""
   ]
  },
  {
   "cell_type": "code",
   "execution_count": 5,
   "id": "f71156cb",
   "metadata": {},
   "outputs": [
    {
     "name": "stdout",
     "output_type": "stream",
     "text": [
      "Number of characters : 1115394\n",
      "Vocabulary size : 65\n"
     ]
    }
   ],
   "source": [
    "with open(data_file, 'r', encoding=\"utf-8\") as file:\n",
    "    content = file.read()\n",
    "\n",
    "print(f\"Number of characters : {len(content)}\")\n",
    "\n",
    "characters = sorted(list(set(content)))\n",
    "vocab_size = len(characters)\n",
    "print(f\"Vocabulary size : {len(characters)}\")\n",
    "\n",
    "stoi = { c:i for i, c in enumerate(characters)}\n",
    "itos = { i:c for i, c in enumerate(characters)}\n",
    "\n",
    "encode = lambda s: [stoi[c] for c in s]\n",
    "decode = lambda x: \"\".join([itos[i] for i in x])"
   ]
  },
  {
   "cell_type": "code",
   "execution_count": 19,
   "id": "5953062b",
   "metadata": {},
   "outputs": [],
   "source": [
    "# Train-test split\n",
    "\n",
    "data = torch.tensor(encode(content), dtype=torch.long)\n",
    "n_train = int(0.9*len(data))\n",
    "train_data = data[:n_train]\n",
    "valid_data = data[n_train:]\n",
    "\n",
    "def get_batch(split):\n",
    "    data = train_data if split == \"train\" else valid_data\n",
    "    idxs = torch.randint(len(data)-block_size, size=(batch_size,))\n",
    "    x = torch.stack([data[idx:idx+block_size] for idx in idxs])\n",
    "    y = torch.stack([data[idx+1:idx+block_size+1] for idx in idxs])\n",
    "    x, y = x.to(device), y.to(device)\n",
    "    return x, y"
   ]
  },
  {
   "cell_type": "code",
   "execution_count": 7,
   "id": "c2536da8",
   "metadata": {},
   "outputs": [],
   "source": [
    "@torch.no_grad()\n",
    "def estimate_loss():\n",
    "    out = {}\n",
    "    model.eval()\n",
    "    for split in [\"train\", \"val\"]:\n",
    "        losses = torch.zeros(eval_iters)\n",
    "        for k in range(eval_iters):\n",
    "            X, Y = get_batch(split)\n",
    "            logits, loss = model(X, Y)\n",
    "            losses[k] = loss.item()\n",
    "        out[split] = losses.mean()\n",
    "    model.train()\n",
    "    return out"
   ]
  },
  {
   "cell_type": "code",
   "execution_count": 14,
   "id": "88f0bcec",
   "metadata": {},
   "outputs": [],
   "source": [
    "class Head(nn.Module):\n",
    "    \n",
    "    def __init__(self, head_size):\n",
    "        super(Head, self).__init__()\n",
    "        self.query = nn.Linear(embed_size, head_size, bias=False)\n",
    "        self.key = nn.Linear(embed_size, head_size, bias=False)\n",
    "        self.value = nn.Linear(embed_size, head_size, bias=False)\n",
    "        \n",
    "        self.register_buffer('tril', torch.tril(torch.ones(block_size, block_size)) )\n",
    "        self.dropout = nn.Dropout()\n",
    "        \n",
    "    def forward(self, x):\n",
    "        B, T, C = x.shape\n",
    "        q = self.query(x)\n",
    "        k = self.key(x)\n",
    "        \n",
    "        weights = q @ k.transpose(-1, -2)*k.shape[-1]**-0.5\n",
    "        weights = weights.masked_fill(self.tril[:T, :T] == 0, float('-inf'))\n",
    "        weights = F.softmax(weights, dim=-1)\n",
    "        weights = self.dropout(weights)\n",
    "        \n",
    "        v = self.value(x)\n",
    "        out = weights@v\n",
    "        return out"
   ]
  },
  {
   "cell_type": "code",
   "execution_count": 26,
   "id": "a3286314",
   "metadata": {},
   "outputs": [],
   "source": [
    "model = Head(5)\n",
    "\n",
    "embeddings = nn.Embedding(30, embed_size)\n",
    "idx = torch.randint(30, size=(4, 8))\n",
    "x = embeddings(idx)\n",
    "\n",
    "out = model(x)"
   ]
  },
  {
   "cell_type": "code",
   "execution_count": 27,
   "id": "5c8873af",
   "metadata": {},
   "outputs": [
    {
     "data": {
      "text/plain": [
       "torch.Size([4, 8, 5])"
      ]
     },
     "execution_count": 27,
     "metadata": {},
     "output_type": "execute_result"
    }
   ],
   "source": [
    "out.shape"
   ]
  },
  {
   "cell_type": "code",
   "execution_count": 46,
   "id": "10ab3ebe-03f5-4d27-9040-fb5bd168bcc3",
   "metadata": {},
   "outputs": [],
   "source": [
    "class MultiHeadAttention(nn.Module):\n",
    "    \n",
    "    def __init__(self, num_heads, head_size):\n",
    "        super(MultiHeadAttention, self).__init__()\n",
    "        self.heads = nn.ModuleList([Head(head_size) for _ in range(num_heads)])\n",
    "        self.proj = nn.Linear(num_heads*head_size, embed_size)\n",
    "        self.dropout = nn.Dropout()\n",
    "        \n",
    "    def forward(self, x):\n",
    "        out = torch.cat([h(x) for h in self.heads], dim=-1)\n",
    "        out = self.dropout(self.proj(out))\n",
    "        return out\n",
    "    "
   ]
  },
  {
   "cell_type": "code",
   "execution_count": 24,
   "id": "ccad5710-3880-4777-8670-2d03426d70d5",
   "metadata": {},
   "outputs": [],
   "source": [
    "model = MultiHeadAttention(4, 5)\n",
    "\n",
    "embeddings = nn.Embedding(30, embed_size)\n",
    "idx = torch.randint(30, size=(4, 8))\n",
    "x = embeddings(idx)\n",
    "\n",
    "out = model(x)"
   ]
  },
  {
   "cell_type": "code",
   "execution_count": 25,
   "id": "6f73206b-7d76-4bc8-b4d9-bc0e68d06c95",
   "metadata": {},
   "outputs": [
    {
     "data": {
      "text/plain": [
       "torch.Size([4, 8, 32])"
      ]
     },
     "execution_count": 25,
     "metadata": {},
     "output_type": "execute_result"
    }
   ],
   "source": [
    "out.shape"
   ]
  },
  {
   "cell_type": "code",
   "execution_count": 32,
   "id": "7d90cfa3-762f-491b-8d9d-b4bd7562ca23",
   "metadata": {},
   "outputs": [],
   "source": [
    "class Feedforward(nn.Module):\n",
    "    \n",
    "    def __init__(self):\n",
    "        super(Feedforward, self).__init__()\n",
    "        self.net = nn.Sequential(\n",
    "            nn.Linear(embed_size, 4*embed_size),\n",
    "            nn.ReLU(),\n",
    "            nn.Linear(4*embed_size, embed_size),\n",
    "            nn.Dropout()\n",
    "        )\n",
    "        \n",
    "    def forward(self, x):\n",
    "        out = self.net(x)\n",
    "        return out\n",
    "    "
   ]
  },
  {
   "cell_type": "code",
   "execution_count": 33,
   "id": "198abed2",
   "metadata": {},
   "outputs": [],
   "source": [
    "model = Feedforward()\n",
    "\n",
    "embeddings = nn.Embedding(30, embed_size)\n",
    "idx = torch.randint(30, size=(4, 8))\n",
    "x = embeddings(idx)\n",
    "\n",
    "out = model(x)"
   ]
  },
  {
   "cell_type": "code",
   "execution_count": 34,
   "id": "984f2232-c577-4e92-9d5f-16c16f73e1f9",
   "metadata": {},
   "outputs": [
    {
     "data": {
      "text/plain": [
       "torch.Size([4, 8, 32])"
      ]
     },
     "execution_count": 34,
     "metadata": {},
     "output_type": "execute_result"
    }
   ],
   "source": [
    "out.shape"
   ]
  },
  {
   "cell_type": "code",
   "execution_count": 42,
   "id": "9a791336-30f1-4d8a-9f24-0e6637123a72",
   "metadata": {},
   "outputs": [],
   "source": [
    "class Block(nn.Module):\n",
    "    \n",
    "    def __init__(self, num_heads):\n",
    "        super(Block, self).__init__()\n",
    "        head_size = embed_size//num_heads\n",
    "        self.communication = MultiHeadAttention(num_heads, head_size)\n",
    "        self.computation = Feedforward()\n",
    "        self.ln1 = nn.LayerNorm(embed_size)\n",
    "        self.ln2 = nn.LayerNorm(embed_size)\n",
    "        \n",
    "    def forward(self, x):\n",
    "        x = x + self.communication(self.ln1(x))\n",
    "        x = x + self.computation(self.ln2(x))\n",
    "        return x\n",
    "    "
   ]
  },
  {
   "cell_type": "code",
   "execution_count": 43,
   "id": "fde21d91-4c1d-4202-aebd-769bca1e1906",
   "metadata": {},
   "outputs": [],
   "source": [
    "model = Block(num_heads=4)\n",
    "\n",
    "embeddings = nn.Embedding(30, embed_size)\n",
    "idx = torch.randint(30, size=(4, 8))\n",
    "x = embeddings(idx)\n",
    "\n",
    "out = model(x)"
   ]
  },
  {
   "cell_type": "code",
   "execution_count": 44,
   "id": "a7618bc5-13ed-4019-8f68-ebf2ae62491f",
   "metadata": {},
   "outputs": [
    {
     "data": {
      "text/plain": [
       "torch.Size([4, 8, 32])"
      ]
     },
     "execution_count": 44,
     "metadata": {},
     "output_type": "execute_result"
    }
   ],
   "source": [
    "out.shape"
   ]
  },
  {
   "cell_type": "code",
   "execution_count": 84,
   "id": "31eae7e2-ccb3-4b51-bffb-cd285179a5cc",
   "metadata": {},
   "outputs": [],
   "source": [
    "class GPTLanguageModel(nn.Module):\n",
    "    \n",
    "    def __init__(self, vocab_size, num_blocks, num_heads):\n",
    "        super(GPTLanguageModel, self).__init__()\n",
    "        self.token_embedding_table = nn.Embedding(vocab_size, embed_size)\n",
    "        self.position_embedding_table = nn.Embedding(block_size, embed_size)\n",
    "        \n",
    "        self.blocks = nn.Sequential(*[Block(num_heads) for _ in range(num_blocks)])\n",
    "        self.ln_f = nn.LayerNorm(embed_size)\n",
    "        self.proj = nn.Linear(embed_size, vocab_size)\n",
    "        \n",
    "    def forward(self, idx, targets=None):\n",
    "        B, T = idx.shape\n",
    "        tok_embed = self.token_embedding_table(idx) # B,T,C\n",
    "        pos_embed = self.position_embedding_table(torch.arange(T)) # T,C\n",
    "        embed = tok_embed + pos_embed\n",
    "        \n",
    "        x = self.blocks(embed)\n",
    "        x = self.ln_f(x)\n",
    "        logits = self.proj(x)\n",
    "        \n",
    "        if targets is None:\n",
    "            loss = None\n",
    "        else:\n",
    "            loss = F.cross_entropy(logits.view(B*T, -1), targets.contiguous().view(-1))\n",
    "        return logits, loss\n",
    "    \n",
    "    @torch.no_grad()\n",
    "    def generate(self, idx, max_new_tokens):\n",
    "        for i in range(max_new_tokens):\n",
    "            idx_cond = idx[:, -block_size:]\n",
    "            logits, _ = self(idx_cond)\n",
    "            logits = logits[:, -1, :] # B,C\n",
    "            probs = F.softmax(logits, dim=-1)\n",
    "            idx_next = torch.multinomial(probs, num_samples=1)\n",
    "            idx = torch.cat((idx, idx_next), dim=-1)\n",
    "        return idx\n",
    "            "
   ]
  },
  {
   "cell_type": "code",
   "execution_count": 85,
   "id": "4f94a416-230b-4ebb-b6f2-84f2f262528b",
   "metadata": {},
   "outputs": [
    {
     "name": "stdout",
     "output_type": "stream",
     "text": [
      "Before training : \n",
      "\n",
      "f&ooDvvGJLMrWSKAt-tlW!iMOOSyoLYSK\n",
      "tMDX:n-rnuucH wRL\n",
      "rSMJTdpK;;G?3-adnSUtdAl3:qqwrVdOMgCndjYGgAdmk\n",
      "eSPxZcg;zqq!JA:tftQtL QftG\n",
      "fTkCcNi.jDWj!pLR'jMOMY!i 'lWhJnjd!eJ?r?MmWa'MrtNO:VzA-Bq-hvrPN lgqSiK,\n",
      "; XJADC\n",
      "-KY$A;,L3BlORtxxEMeqwQhlZBqJXdfLnNArJKkSjJJOvC?;C\n",
      "h$goebqlq;B!BStixAW-CukStNtL QeAxHJfYSz'XfzpOmnsOWxTPRBNd?bgFWLH VWGGYURP.g?YOR3:SK?LeGU&fh,oMlcy kK\n",
      "J!JozBI.YnGYR.PGo-jTzxBatN?,t;X vOK?-iTqddSL3'Os3&iizWNm ?.O3KjoLQUrzj\n",
      "s3EhPdgTc;Rh-uC fJAJY?aYvhL:hndMxXa'S! pYCq-,,wAr\n",
      "tPi.lD;oIaDg3vNQELmSVC:xFCgP!t$YhvjSX Lyh-slT$L!.-YTLZuKOcfj;YFOROzkSSr-nVN WeBoW\n",
      "$Ewcsog?nNl\n",
      "S\n",
      "acuslCMwvOn?Lzj!udsRXKMRVYcLaq!WjDrxlY,U\n",
      "eJq:mMyeTgT,lSUzx-dY xtqahkubL- ays-CwR:jzxsYKQ$o3fSJ$cHBRYUUFDMF.upzpSVoacZ3wzgCEMJX:\n",
      "S?laQwq!S\n",
      "jKKtvB?Z!tpAbG:m&qmpSJ-wFAQ?,dSTmBlM,NS?ONckuEB!JKfiYgJnSvZWyutitDI$AWtlIXOC,:AuwE'kN&rdxLrrW\n",
      "p!fhrdh!if?.T!Q&-3qlgGNQsLCf-L-dIy L;A\n",
      "fJdB3!tcsHVgIFVkT,do$SA,GT\n",
      "q-tNWMsAzqMQsn,hC.PPH!!Mkd-y :lY?wAObX-Lwz$aSAarncKCSSjqqlCSOwo!YXRXcwYji\n",
      "kMC?!MAMTdraS'yqYdc-\n",
      "JFDShgnlB?llb$!UyIbiqXXb$,uizqSH!EQ\n"
     ]
    }
   ],
   "source": [
    "model = GPTLanguageModel(vocab_size, 4, 4)\n",
    "model = model.to(device)\n",
    "\n",
    "print(\"Before training : \")\n",
    "context = torch.zeros((1, 1), dtype=torch.long, device=device)\n",
    "out = model.generate(context, max_new_tokens=1000)\n",
    "print(decode(out.squeeze().tolist()))"
   ]
  },
  {
   "cell_type": "code",
   "execution_count": 86,
   "id": "2221c8fd-7c0d-4f01-9871-fb2c4049e605",
   "metadata": {},
   "outputs": [],
   "source": [
    "optimizer = torch.optim.AdamW(model.parameters(), lr=learning_rate)"
   ]
  },
  {
   "cell_type": "code",
   "execution_count": 87,
   "id": "2f74e73d",
   "metadata": {},
   "outputs": [
    {
     "name": "stdout",
     "output_type": "stream",
     "text": [
      "step 0: train loss 4.3505, val loss 4.3439\n",
      "step 300: train loss 2.5748, val loss 2.5755\n",
      "step 600: train loss 2.4860, val loss 2.4876\n",
      "step 900: train loss 2.4262, val loss 2.4336\n",
      "step 1200: train loss 2.4183, val loss 2.4220\n",
      "step 1500: train loss 2.4016, val loss 2.4025\n",
      "step 1800: train loss 2.3965, val loss 2.4074\n",
      "step 2100: train loss 2.3793, val loss 2.3988\n",
      "step 2400: train loss 2.3651, val loss 2.3931\n",
      "step 2700: train loss 2.3607, val loss 2.3852\n"
     ]
    }
   ],
   "source": [
    "for i in range(max_iters):\n",
    "    if i % eval_interval == 0:\n",
    "        losses = estimate_loss()\n",
    "        print(f\"step {i}: train loss {losses['train']:.4f}, val loss {losses['val']:.4f}\")\n",
    "\n",
    "    xb, yb = get_batch(\"train\")\n",
    "    logits, loss = model(xb, yb)\n",
    "    optimizer.zero_grad(set_to_none=True)\n",
    "    loss.backward()\n",
    "    optimizer.step()"
   ]
  },
  {
   "cell_type": "code",
   "execution_count": 88,
   "id": "46a8ef36-b5ee-4e00-9943-d78c28494e3f",
   "metadata": {},
   "outputs": [
    {
     "name": "stdout",
     "output_type": "stream",
     "text": [
      "After training : \n",
      "\n",
      "\n",
      "Loutil, his hof ncors where ut; sead tot to feche sored.\n",
      "\n",
      "\n",
      "\n",
      "thEcAn, thy reat m.\n",
      "Thite Th our od'g.\n",
      "D Lety nom e cond losn oft no so hend tisty! oy,\n",
      "I thy meoreeo'ds hes yous hegs shene wor go hy themalledteangoun wimy clecalle.\n",
      "\n",
      "\n",
      "BUSTOFCHow boreeknt, theand cime slam lers her lat. othryert,\n",
      "My Plse.\n",
      "Gffong sucis toob youidy. w, Fof fein CHin uy An: tnou.\n",
      "Ye.\n",
      "XECIUSI nw fome by fo sou, wivem ontri, pak. harm RI aterravath. bun to abk.\n",
      "\n",
      "ARMy tart an yombrelt les, stik fuy onar s san tirvis hipano\n"
     ]
    }
   ],
   "source": [
    "print(\"After training : \")\n",
    "context = torch.zeros((1, 1), dtype=torch.long, device=device)\n",
    "out = model.generate(context, max_new_tokens=500)\n",
    "print(decode(out.squeeze().tolist()))"
   ]
  }
 ],
 "metadata": {
  "kernelspec": {
   "display_name": "Python 3 (ipykernel)",
   "language": "python",
   "name": "python3"
  },
  "language_info": {
   "codemirror_mode": {
    "name": "ipython",
    "version": 3
   },
   "file_extension": ".py",
   "mimetype": "text/x-python",
   "name": "python",
   "nbconvert_exporter": "python",
   "pygments_lexer": "ipython3",
   "version": "3.7.11"
  },
  "toc": {
   "base_numbering": 1,
   "nav_menu": {},
   "number_sections": true,
   "sideBar": true,
   "skip_h1_title": false,
   "title_cell": "Table of Contents",
   "title_sidebar": "Contents",
   "toc_cell": false,
   "toc_position": {},
   "toc_section_display": true,
   "toc_window_display": false
  }
 },
 "nbformat": 4,
 "nbformat_minor": 5
}
